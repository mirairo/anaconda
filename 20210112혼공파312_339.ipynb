{
  "nbformat": 4,
  "nbformat_minor": 0,
  "metadata": {
    "colab": {
      "name": "20210112혼공파312-339.ipynb",
      "provenance": [],
      "authorship_tag": "ABX9TyPTAUviEy6YmXcluCmdigG/",
      "include_colab_link": true
    },
    "kernelspec": {
      "name": "python3",
      "display_name": "Python 3"
    }
  },
  "cells": [
    {
      "cell_type": "markdown",
      "metadata": {
        "id": "view-in-github",
        "colab_type": "text"
      },
      "source": [
        "<a href=\"https://colab.research.google.com/github/mirairo/anaconda/blob/master/20210112%ED%98%BC%EA%B3%B5%ED%8C%8C312_339.ipynb\" target=\"_parent\"><img src=\"https://colab.research.google.com/assets/colab-badge.svg\" alt=\"Open In Colab\"/></a>"
      ]
    },
    {
      "cell_type": "code",
      "metadata": {
        "colab": {
          "base_uri": "https://localhost:8080/"
        },
        "id": "GkRLjZpDIZtJ",
        "outputId": "66ba9dad-a436-4804-fd33-4556e43cbff6"
      },
      "source": [
        "import math\r\n",
        "math.sin(1)\r\n"
      ],
      "execution_count": 47,
      "outputs": [
        {
          "output_type": "execute_result",
          "data": {
            "text/plain": [
              "0.8414709848078965"
            ]
          },
          "metadata": {
            "tags": []
          },
          "execution_count": 47
        }
      ]
    },
    {
      "cell_type": "code",
      "metadata": {
        "colab": {
          "base_uri": "https://localhost:8080/"
        },
        "id": "v_RspGidI2R5",
        "outputId": "22c6857d-df3b-43d1-cd67-a72461a5af13"
      },
      "source": [
        "math.cos(1)"
      ],
      "execution_count": 48,
      "outputs": [
        {
          "output_type": "execute_result",
          "data": {
            "text/plain": [
              "0.5403023058681398"
            ]
          },
          "metadata": {
            "tags": []
          },
          "execution_count": 48
        }
      ]
    },
    {
      "cell_type": "code",
      "metadata": {
        "colab": {
          "base_uri": "https://localhost:8080/"
        },
        "id": "xt9Iv8ksI6kl",
        "outputId": "8e557045-5b42-41ca-b0cc-7ad55aba5c72"
      },
      "source": [
        "math.tan(10)"
      ],
      "execution_count": 49,
      "outputs": [
        {
          "output_type": "execute_result",
          "data": {
            "text/plain": [
              "0.6483608274590866"
            ]
          },
          "metadata": {
            "tags": []
          },
          "execution_count": 49
        }
      ]
    },
    {
      "cell_type": "code",
      "metadata": {
        "colab": {
          "base_uri": "https://localhost:8080/"
        },
        "id": "j2uAoXuBI-ld",
        "outputId": "5597edad-4433-414c-ce94-8926f6952ae3"
      },
      "source": [
        "math.floor(2.5)"
      ],
      "execution_count": 50,
      "outputs": [
        {
          "output_type": "execute_result",
          "data": {
            "text/plain": [
              "2"
            ]
          },
          "metadata": {
            "tags": []
          },
          "execution_count": 50
        }
      ]
    },
    {
      "cell_type": "code",
      "metadata": {
        "colab": {
          "base_uri": "https://localhost:8080/"
        },
        "id": "7ZgqLjCKJFYR",
        "outputId": "669650a4-7d10-496e-be54-5daeaec1e711"
      },
      "source": [
        "math.ceil(2.5)"
      ],
      "execution_count": 51,
      "outputs": [
        {
          "output_type": "execute_result",
          "data": {
            "text/plain": [
              "3"
            ]
          },
          "metadata": {
            "tags": []
          },
          "execution_count": 51
        }
      ]
    },
    {
      "cell_type": "code",
      "metadata": {
        "colab": {
          "base_uri": "https://localhost:8080/"
        },
        "id": "EJ7Q2U_TLBh2",
        "outputId": "f95773b9-32b1-401c-d3b0-8f0df36001ab"
      },
      "source": [
        "import datetime\r\n",
        "print(\"현재시각을 구하고 출력하기\")\r\n",
        "now = datetime.datetime.now()\r\n",
        "print(now.year, \"년\")\r\n",
        "print(now.month, \"월\")\r\n",
        "print(now.day, \"일\")\r\n",
        "print(now.hour, \"시\")\r\n",
        "print(now.minute, \"분\")\r\n",
        "print(now.second, \"초\")\r\n",
        "print()"
      ],
      "execution_count": 52,
      "outputs": [
        {
          "output_type": "stream",
          "text": [
            "현재시각을 구하고 출력하기\n",
            "2021 년\n",
            "1 월\n",
            "12 일\n",
            "11 시\n",
            "0 분\n",
            "6 초\n",
            "\n"
          ],
          "name": "stdout"
        }
      ]
    },
    {
      "cell_type": "code",
      "metadata": {
        "id": "rbKewicjMtr-"
      },
      "source": [
        ""
      ],
      "execution_count": 52,
      "outputs": []
    },
    {
      "cell_type": "markdown",
      "metadata": {
        "id": "kgAleRGPM1Al"
      },
      "source": [
        "# 새 섹션"
      ]
    },
    {
      "cell_type": "markdown",
      "metadata": {
        "id": "z1jl4zeUNJbc"
      },
      "source": [
        "BeautifulSoup 모듈로 오늘의 날씨 가져오기\r\n"
      ]
    },
    {
      "cell_type": "code",
      "metadata": {
        "colab": {
          "base_uri": "https://localhost:8080/"
        },
        "id": "ZqoHywU6NRK2",
        "outputId": "4ca6213b-b54e-40c9-bf5c-80810f77ca84"
      },
      "source": [
        "# 모듈을 읽어 들입니다.\r\n",
        "from urllib import request\r\n",
        "from bs4 import BeautifulSoup\r\n",
        "\r\n",
        "# urlopen() 함수로 기상청의 전국 날씨를 읽습니다.\r\n",
        "target = request.urlopen(\"http://www.kma.go.kr/weather/forecast/mid-term-rss3.jsp?stnId=108\")\r\n",
        "\r\n",
        "# BeautifulSoup을 사용해 웹 페이지를 분석합니다.\r\n",
        "soup = BeautifulSoup(target, \"html.parser\")\r\n",
        "\r\n",
        "# location 태그를 찾습니다.\r\n",
        "for location in soup.select(\"location\"):\r\n",
        "    # 내부의 city, wf, tmn, tmx 태그를 찾아 출력합니다.\r\n",
        "    print(\"도시:\", location.select_one(\"city\").string)\r\n",
        "    print(\"날씨:\", location.select_one(\"wf\").string)\r\n",
        "    print(\"최저기온:\", location.select_one(\"tmn\").string)\r\n",
        "    print(\"최고기온:\", location.select_one(\"tmx\").string)\r\n",
        "    print()\r\n"
      ],
      "execution_count": 53,
      "outputs": [
        {
          "output_type": "stream",
          "text": [
            "도시: 서울\n",
            "날씨: 구름많음\n",
            "최저기온: 1\n",
            "최고기온: 8\n",
            "\n",
            "도시: 인천\n",
            "날씨: 구름많음\n",
            "최저기온: 2\n",
            "최고기온: 8\n",
            "\n",
            "도시: 수원\n",
            "날씨: 구름많음\n",
            "최저기온: 0\n",
            "최고기온: 8\n",
            "\n",
            "도시: 파주\n",
            "날씨: 구름많음\n",
            "최저기온: -2\n",
            "최고기온: 7\n",
            "\n",
            "도시: 이천\n",
            "날씨: 구름많음\n",
            "최저기온: -5\n",
            "최고기온: 7\n",
            "\n",
            "도시: 평택\n",
            "날씨: 구름많음\n",
            "최저기온: 0\n",
            "최고기온: 9\n",
            "\n",
            "도시: 춘천\n",
            "날씨: 구름많음\n",
            "최저기온: -6\n",
            "최고기온: 6\n",
            "\n",
            "도시: 원주\n",
            "날씨: 구름많음\n",
            "최저기온: -2\n",
            "최고기온: 8\n",
            "\n",
            "도시: 강릉\n",
            "날씨: 구름많음\n",
            "최저기온: 2\n",
            "최고기온: 12\n",
            "\n",
            "도시: 대전\n",
            "날씨: 구름많음\n",
            "최저기온: 0\n",
            "최고기온: 12\n",
            "\n",
            "도시: 세종\n",
            "날씨: 구름많음\n",
            "최저기온: -2\n",
            "최고기온: 10\n",
            "\n",
            "도시: 홍성\n",
            "날씨: 구름많음\n",
            "최저기온: 0\n",
            "최고기온: 11\n",
            "\n",
            "도시: 청주\n",
            "날씨: 구름많음\n",
            "최저기온: -1\n",
            "최고기온: 10\n",
            "\n",
            "도시: 충주\n",
            "날씨: 구름많음\n",
            "최저기온: -3\n",
            "최고기온: 9\n",
            "\n",
            "도시: 영동\n",
            "날씨: 구름많음\n",
            "최저기온: -3\n",
            "최고기온: 13\n",
            "\n",
            "도시: 광주\n",
            "날씨: 구름많음\n",
            "최저기온: 3\n",
            "최고기온: 15\n",
            "\n",
            "도시: 목포\n",
            "날씨: 구름많음\n",
            "최저기온: 5\n",
            "최고기온: 13\n",
            "\n",
            "도시: 여수\n",
            "날씨: 구름많음\n",
            "최저기온: 5\n",
            "최고기온: 12\n",
            "\n",
            "도시: 순천\n",
            "날씨: 구름많음\n",
            "최저기온: 2\n",
            "최고기온: 14\n",
            "\n",
            "도시: 광양\n",
            "날씨: 구름많음\n",
            "최저기온: 4\n",
            "최고기온: 15\n",
            "\n",
            "도시: 나주\n",
            "날씨: 구름많음\n",
            "최저기온: 2\n",
            "최고기온: 15\n",
            "\n",
            "도시: 전주\n",
            "날씨: 구름많음\n",
            "최저기온: 3\n",
            "최고기온: 14\n",
            "\n",
            "도시: 군산\n",
            "날씨: 구름많음\n",
            "최저기온: 1\n",
            "최고기온: 14\n",
            "\n",
            "도시: 정읍\n",
            "날씨: 구름많음\n",
            "최저기온: 3\n",
            "최고기온: 14\n",
            "\n",
            "도시: 남원\n",
            "날씨: 구름많음\n",
            "최저기온: 0\n",
            "최고기온: 13\n",
            "\n",
            "도시: 고창\n",
            "날씨: 구름많음\n",
            "최저기온: 2\n",
            "최고기온: 14\n",
            "\n",
            "도시: 무주\n",
            "날씨: 구름많음\n",
            "최저기온: -1\n",
            "최고기온: 12\n",
            "\n",
            "도시: 부산\n",
            "날씨: 구름많음\n",
            "최저기온: 8\n",
            "최고기온: 15\n",
            "\n",
            "도시: 울산\n",
            "날씨: 구름많음\n",
            "최저기온: 3\n",
            "최고기온: 14\n",
            "\n",
            "도시: 창원\n",
            "날씨: 구름많음\n",
            "최저기온: 1\n",
            "최고기온: 13\n",
            "\n",
            "도시: 진주\n",
            "날씨: 구름많음\n",
            "최저기온: -2\n",
            "최고기온: 14\n",
            "\n",
            "도시: 거창\n",
            "날씨: 구름많음\n",
            "최저기온: -4\n",
            "최고기온: 12\n",
            "\n",
            "도시: 통영\n",
            "날씨: 구름많음\n",
            "최저기온: 5\n",
            "최고기온: 14\n",
            "\n",
            "도시: 대구\n",
            "날씨: 맑음\n",
            "최저기온: 0\n",
            "최고기온: 12\n",
            "\n",
            "도시: 안동\n",
            "날씨: 맑음\n",
            "최저기온: -5\n",
            "최고기온: 10\n",
            "\n",
            "도시: 포항\n",
            "날씨: 맑음\n",
            "최저기온: 2\n",
            "최고기온: 14\n",
            "\n",
            "도시: 경주\n",
            "날씨: 맑음\n",
            "최저기온: 0\n",
            "최고기온: 15\n",
            "\n",
            "도시: 울진\n",
            "날씨: 맑음\n",
            "최저기온: 1\n",
            "최고기온: 13\n",
            "\n",
            "도시: 울릉도\n",
            "날씨: 맑음\n",
            "최저기온: 5\n",
            "최고기온: 11\n",
            "\n",
            "도시: 제주\n",
            "날씨: 맑음\n",
            "최저기온: 8\n",
            "최고기온: 16\n",
            "\n",
            "도시: 서귀포\n",
            "날씨: 맑음\n",
            "최저기온: 10\n",
            "최고기온: 16\n",
            "\n"
          ],
          "name": "stdout"
        }
      ]
    },
    {
      "cell_type": "code",
      "metadata": {
        "cellView": "form",
        "id": "E0FiPHzcQ28-"
      },
      "source": [
        "#@title\n"
      ],
      "execution_count": null,
      "outputs": []
    },
    {
      "cell_type": "code",
      "metadata": {
        "colab": {
          "base_uri": "https://localhost:8080/"
        },
        "id": "cIL6adSNOM9K",
        "outputId": "051b739b-732c-45c6-a10c-8bd3b785377f"
      },
      "source": [
        "pip install flask\r\n"
      ],
      "execution_count": 54,
      "outputs": [
        {
          "output_type": "stream",
          "text": [
            "Requirement already satisfied: flask in /usr/local/lib/python3.6/dist-packages (1.1.2)\n",
            "Requirement already satisfied: Werkzeug>=0.15 in /usr/local/lib/python3.6/dist-packages (from flask) (1.0.1)\n",
            "Requirement already satisfied: click>=5.1 in /usr/local/lib/python3.6/dist-packages (from flask) (7.1.2)\n",
            "Requirement already satisfied: Jinja2>=2.10.1 in /usr/local/lib/python3.6/dist-packages (from flask) (2.11.2)\n",
            "Requirement already satisfied: itsdangerous>=0.24 in /usr/local/lib/python3.6/dist-packages (from flask) (1.1.0)\n",
            "Requirement already satisfied: MarkupSafe>=0.23 in /usr/local/lib/python3.6/dist-packages (from Jinja2>=2.10.1->flask) (1.1.1)\n"
          ],
          "name": "stdout"
        }
      ]
    },
    {
      "cell_type": "code",
      "metadata": {
        "id": "N-o9go5dOWZA"
      },
      "source": [
        "from flask import Flask\r\n",
        "app = Flask(__name__)\r\n",
        "\r\n",
        "@app.route(\"/\")\r\n",
        "def hello():\r\n",
        "  return \"<h3> Hello World! 신축년 새해 복 많이 받으세요!<h3>\""
      ],
      "execution_count": 55,
      "outputs": []
    },
    {
      "cell_type": "markdown",
      "metadata": {
        "id": "ITGuUf5LQZxc"
      },
      "source": [
        ""
      ]
    },
    {
      "cell_type": "code",
      "metadata": {
        "id": "zibM20bMPbp9"
      },
      "source": [
        "set FLASK_APP=20210112혼공파312.ipynb\r\n",
        "flask run"
      ],
      "execution_count": null,
      "outputs": []
    }
  ]
}